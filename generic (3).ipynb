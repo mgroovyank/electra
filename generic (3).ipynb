{
  "nbformat": 4,
  "nbformat_minor": 0,
  "metadata": {
    "colab": {
      "name": "generic.ipynb",
      "provenance": [],
      "collapsed_sections": []
    },
    "kernelspec": {
      "name": "python3",
      "display_name": "Python 3"
    },
    "accelerator": "GPU"
  },
  "cells": [
    {
      "cell_type": "code",
      "metadata": {
        "id": "jTg27_-SIZQk",
        "colab_type": "code",
        "colab": {}
      },
      "source": [
        "import pandas as pd\n",
        "import importlib"
      ],
      "execution_count": null,
      "outputs": []
    },
    {
      "cell_type": "code",
      "metadata": {
        "id": "kVDCXOiq79B4",
        "colab_type": "code",
        "colab": {
          "base_uri": "https://localhost:8080/",
          "height": 134
        },
        "outputId": "23003760-1666-4999-c34f-f08c85aa3528"
      },
      "source": [
        "!git clone https://github.com/mgroovyank/electra.git"
      ],
      "execution_count": null,
      "outputs": [
        {
          "output_type": "stream",
          "text": [
            "Cloning into 'electra'...\n",
            "remote: Enumerating objects: 112, done.\u001b[K\n",
            "remote: Counting objects: 100% (112/112), done.\u001b[K\n",
            "remote: Compressing objects: 100% (112/112), done.\u001b[K\n",
            "remote: Total 366 (delta 67), reused 0 (delta 0), pack-reused 254\u001b[K\n",
            "Receiving objects: 100% (366/366), 182.91 KiB | 859.00 KiB/s, done.\n",
            "Resolving deltas: 100% (210/210), done.\n"
          ],
          "name": "stdout"
        }
      ]
    },
    {
      "cell_type": "code",
      "metadata": {
        "id": "umwyJilw8G4B",
        "colab_type": "code",
        "colab": {
          "base_uri": "https://localhost:8080/",
          "height": 34
        },
        "outputId": "09b76b7a-6f8e-471e-96dc-7d2ce64bef49"
      },
      "source": [
        "cd electra"
      ],
      "execution_count": null,
      "outputs": [
        {
          "output_type": "stream",
          "text": [
            "/content/electra\n"
          ],
          "name": "stdout"
        }
      ]
    },
    {
      "cell_type": "code",
      "metadata": {
        "id": "uqdjpoKt9Yuk",
        "colab_type": "code",
        "colab": {}
      },
      "source": [
        "! mkdir ./data\n",
        "! mkdir ./data/finetuning_data\n",
        "! mkdir ./data/finetuning_data/sentimentclassification\n",
        "! mkdir ./data/models"
      ],
      "execution_count": null,
      "outputs": []
    },
    {
      "cell_type": "code",
      "metadata": {
        "id": "KRg8qTtF9akI",
        "colab_type": "code",
        "colab": {
          "base_uri": "https://localhost:8080/",
          "height": 202
        },
        "outputId": "d606da6a-2085-4de2-ca54-7967eac61e77"
      },
      "source": [
        "!wget https://storage.googleapis.com/electra-data/electra_base.zip"
      ],
      "execution_count": null,
      "outputs": [
        {
          "output_type": "stream",
          "text": [
            "--2020-06-18 16:12:47--  https://storage.googleapis.com/electra-data/electra_base.zip\n",
            "Resolving storage.googleapis.com (storage.googleapis.com)... 173.194.79.128, 2a00:1450:4013:c00::80\n",
            "Connecting to storage.googleapis.com (storage.googleapis.com)|173.194.79.128|:443... connected.\n",
            "HTTP request sent, awaiting response... 200 OK\n",
            "Length: 885890161 (845M) [application/zip]\n",
            "Saving to: ‘electra_base.zip’\n",
            "\n",
            "electra_base.zip    100%[===================>] 844.85M  51.0MB/s    in 17s     \n",
            "\n",
            "2020-06-18 16:13:05 (50.0 MB/s) - ‘electra_base.zip’ saved [885890161/885890161]\n",
            "\n"
          ],
          "name": "stdout"
        }
      ]
    },
    {
      "cell_type": "code",
      "metadata": {
        "id": "LXdmTQlI9eb3",
        "colab_type": "code",
        "colab": {
          "base_uri": "https://localhost:8080/",
          "height": 134
        },
        "outputId": "3c103600-57f1-41e8-9870-3e107de7847b"
      },
      "source": [
        "!unzip electra_base.zip"
      ],
      "execution_count": null,
      "outputs": [
        {
          "output_type": "stream",
          "text": [
            "Archive:  electra_base.zip\n",
            "   creating: electra_base/\n",
            "  inflating: electra_base/electra_base.meta  \n",
            "  inflating: electra_base/electra_base.index  \n",
            "  inflating: electra_base/checkpoint  \n",
            "  inflating: electra_base/vocab.txt  \n",
            "  inflating: electra_base/electra_base.data-00000-of-00001  \n"
          ],
          "name": "stdout"
        }
      ]
    },
    {
      "cell_type": "code",
      "metadata": {
        "id": "b5Hu_eCd9jaQ",
        "colab_type": "code",
        "colab": {}
      },
      "source": [
        "! mv  electra_base ./data/models"
      ],
      "execution_count": null,
      "outputs": []
    },
    {
      "cell_type": "code",
      "metadata": {
        "id": "FulbSBkq9nTl",
        "colab_type": "code",
        "colab": {
          "base_uri": "https://localhost:8080/",
          "height": 34
        },
        "outputId": "1bb975d0-c6cf-4b88-f364-30af5d87bac3"
      },
      "source": [
        "%tensorflow_version 1.x"
      ],
      "execution_count": null,
      "outputs": [
        {
          "output_type": "stream",
          "text": [
            "TensorFlow 1.x selected.\n"
          ],
          "name": "stdout"
        }
      ]
    },
    {
      "cell_type": "code",
      "metadata": {
        "id": "1dx17BfMI13e",
        "colab_type": "code",
        "colab": {}
      },
      "source": [
        "train = pd.read_csv(\"/content/drive/My Drive/fin-bank/train.tsv\", sep=\"\\t\")\n",
        "dev = pd.read_csv(\"/content/drive/My Drive/fin-bank/dev.tsv\", sep=\"\\t\")\n",
        "test = pd.read_csv(\"/content/drive/My Drive/fin-bank/test.tsv\", sep=\"\\t\")"
      ],
      "execution_count": null,
      "outputs": []
    },
    {
      "cell_type": "code",
      "metadata": {
        "id": "ycToYdSlI_7Y",
        "colab_type": "code",
        "colab": {}
      },
      "source": [
        "train.to_csv(\"/content/electra/data/finetuning_data/sentimentclassification/train.csv\", index=False, sep=\",\")\n",
        "dev.to_csv(\"/content/electra/data/finetuning_data/sentimentclassification/dev.csv\", index=False, sep=\",\")\n",
        "test.to_csv(\"/content/electra/data/finetuning_data/sentimentclassification/test.csv\", index=False, sep=\",\")"
      ],
      "execution_count": null,
      "outputs": []
    },
    {
      "cell_type": "code",
      "metadata": {
        "id": "tIwCnpsVXGUJ",
        "colab_type": "code",
        "colab": {}
      },
      "source": [
        "import tfelectra"
      ],
      "execution_count": 12,
      "outputs": []
    },
    {
      "cell_type": "code",
      "metadata": {
        "id": "NAq8UI56FUs-",
        "colab_type": "code",
        "colab": {
          "base_uri": "https://localhost:8080/",
          "height": 34
        },
        "outputId": "2e7a1403-3972-4b1e-8276-e328924bcb94"
      },
      "source": [
        "importlib.reload(tfelectra)"
      ],
      "execution_count": 13,
      "outputs": [
        {
          "output_type": "execute_result",
          "data": {
            "text/plain": [
              "<module 'tfelectra' from '/content/electra/tfelectra.py'>"
            ]
          },
          "metadata": {
            "tags": []
          },
          "execution_count": 13
        }
      ]
    },
    {
      "cell_type": "code",
      "metadata": {
        "id": "imSQslOQYNH6",
        "colab_type": "code",
        "colab": {}
      },
      "source": [
        "configs = tfelectra.Configs(\n",
        "    data_dir = \"/content/electra/data\",\n",
        "    model_name =  \"electra_base\",\n",
        "    model_size = \"base\",\n",
        "    max_seq_length = 64,\n",
        "    train_batch_size = 16,\n",
        "    num_train_epochs = 3,\n",
        "    label_list = [\"0\", \"1\", \"2\"],\n",
        "    do_predict = True,\n",
        "    do_eval = True\n",
        "    )"
      ],
      "execution_count": 14,
      "outputs": []
    },
    {
      "cell_type": "code",
      "metadata": {
        "id": "IPWOwKqoalY4",
        "colab_type": "code",
        "colab": {
          "base_uri": "https://localhost:8080/",
          "height": 941
        },
        "outputId": "04f08918-ac71-4009-eb08-8e662508dfab"
      },
      "source": [
        "electra_model = tfelectra.ElectraClassification(configs)"
      ],
      "execution_count": 18,
      "outputs": [
        {
          "output_type": "stream",
          "text": [
            "================================================================================\n",
            "Config: model=electra_base, trial 1/1\n",
            "================================================================================\n",
            "data_dir /content/electra/data\n",
            "debug False\n",
            "do_eval True\n",
            "do_lower_case True\n",
            "do_train True\n",
            "double_unordered True\n",
            "embedding_size None\n",
            "eval_batch_size 8\n",
            "gcp_project None\n",
            "init_checkpoint /content/electra/data/models/electra_base\n",
            "iterations_per_loop 1000\n",
            "keep_all_models True\n",
            "layerwise_lr_decay 0.8\n",
            "learning_rate 5e-05\n",
            "log_examples False\n",
            "max_seq_length 64\n",
            "model_dir /content/electra/data/models/electra_base/finetuning_models/sentimentclassification_model\n",
            "model_hparam_overrides {}\n",
            "model_name electra_base\n",
            "model_size base\n",
            "n_writes_test 5\n",
            "num_tpu_cores 1\n",
            "num_train_epochs 3\n",
            "num_trials 1\n",
            "predict_batch_size 8\n",
            "preprocessed_data_dir /content/electra/data/models/electra_base/finetuning_tfrecords/sentimentclassification_tfrecords\n",
            "qa_eval_file <built-in method format of str object at 0x7f6d1ea038a0>\n",
            "qa_na_file <built-in method format of str object at 0x7f6d1e9330c0>\n",
            "qa_preds_file <built-in method format of str object at 0x7f6d1ea03d20>\n",
            "raw_data_dir <built-in method format of str object at 0x7f6d1e750030>\n",
            "results_pkl /content/electra/data/models/electra_base/results/sentimentclassification_results.pkl\n",
            "results_txt /content/electra/data/models/electra_base/results/sentimentclassification_results.txt\n",
            "save_checkpoints_steps 1000000\n",
            "task_names ['sentimentclassification']\n",
            "tasks {'sentimentclassification': {'type': 'classification', 'labels': ['0', '1', '2'], 'header': True, 'text_column': 1, 'label_column': 2}}\n",
            "test_predictions <built-in method format of str object at 0x7f6d1ea02470>\n",
            "tpu_job_name None\n",
            "tpu_name None\n",
            "tpu_zone None\n",
            "train_batch_size 16\n",
            "use_tfrecords_if_existing True\n",
            "use_tpu False\n",
            "vocab_file /content/electra/data/models/electra_base/vocab.txt\n",
            "vocab_size 30522\n",
            "warmup_proportion 0.1\n",
            "weight_decay_rate 0.01\n",
            "write_test_outputs True\n",
            "\n",
            "Loading dataset sentimentclassification_train\n",
            "Existing tfrecords not found so creating\n",
            "Writing example 0 of 3100\n",
            "Writing example 2000 of 3100\n"
          ],
          "name": "stdout"
        }
      ]
    },
    {
      "cell_type": "code",
      "metadata": {
        "id": "MWcPJQx7fEoO",
        "colab_type": "code",
        "colab": {
          "base_uri": "https://localhost:8080/",
          "height": 1000
        },
        "outputId": "9a265cce-70f3-4894-af0e-c6ff87389791"
      },
      "source": [
        "electra_model.train()"
      ],
      "execution_count": 19,
      "outputs": [
        {
          "output_type": "stream",
          "text": [
            "================================================================================\n",
            "Start training\n",
            "================================================================================\n",
            "Training for 582 steps\n",
            "WARNING: Entity <bound method Preprocessor._decode_tfrecord of <tfelectra.Preprocessor object at 0x7f6d1e52f668>> could not be transformed and will be executed as-is. Please report this to the AutoGraph team. When filing the bug, set the verbosity to 10 (on Linux, `export AUTOGRAPH_VERBOSITY=10`) and attach the full output. Cause: module 'gast' has no attribute 'Num'\n",
            "Building model...\n",
            "Building complete\n",
            "10/582 = 1.7%, SPS: 0.8, ELAP: 12, ETA: 11:45 - loss: 18.6964\n",
            "20/582 = 3.4%, SPS: 1.2, ELAP: 16, ETA: 7:36 - loss: 13.3963\n",
            "30/582 = 5.2%, SPS: 1.5, ELAP: 20, ETA: 6:10 - loss: 12.0788\n",
            "40/582 = 6.9%, SPS: 1.7, ELAP: 24, ETA: 5:25 - loss: 15.0509\n",
            "50/582 = 8.6%, SPS: 1.8, ELAP: 28, ETA: 4:57 - loss: 11.7278\n",
            "60/582 = 10.3%, SPS: 1.9, ELAP: 32, ETA: 4:36 - loss: 8.4213\n",
            "70/582 = 12.0%, SPS: 2.0, ELAP: 36, ETA: 4:21 - loss: 7.0620\n",
            "80/582 = 13.7%, SPS: 2.0, ELAP: 40, ETA: 4:08 - loss: 2.7465\n",
            "90/582 = 15.5%, SPS: 2.1, ELAP: 43, ETA: 3:57 - loss: 8.1572\n",
            "100/582 = 17.2%, SPS: 2.1, ELAP: 47, ETA: 3:48 - loss: 9.1279\n",
            "110/582 = 18.9%, SPS: 2.1, ELAP: 51, ETA: 3:40 - loss: 4.3011\n",
            "120/582 = 20.6%, SPS: 2.2, ELAP: 55, ETA: 3:32 - loss: 4.4742\n",
            "130/582 = 22.3%, SPS: 2.2, ELAP: 59, ETA: 3:25 - loss: 7.9544\n",
            "140/582 = 24.1%, SPS: 2.2, ELAP: 1:03, ETA: 3:19 - loss: 5.7642\n",
            "150/582 = 25.8%, SPS: 2.2, ELAP: 1:07, ETA: 3:12 - loss: 3.9380\n",
            "160/582 = 27.5%, SPS: 2.3, ELAP: 1:11, ETA: 3:06 - loss: 5.1065\n",
            "170/582 = 29.2%, SPS: 2.3, ELAP: 1:15, ETA: 3:01 - loss: 5.0322\n",
            "180/582 = 30.9%, SPS: 2.3, ELAP: 1:18, ETA: 2:55 - loss: 8.1327\n",
            "190/582 = 32.6%, SPS: 2.3, ELAP: 1:22, ETA: 2:50 - loss: 8.6174\n",
            "200/582 = 34.4%, SPS: 2.3, ELAP: 1:26, ETA: 2:45 - loss: 6.3934\n",
            "210/582 = 36.1%, SPS: 2.3, ELAP: 1:30, ETA: 2:40 - loss: 11.9077\n",
            "220/582 = 37.8%, SPS: 2.3, ELAP: 1:34, ETA: 2:35 - loss: 1.8794\n",
            "230/582 = 39.5%, SPS: 2.3, ELAP: 1:38, ETA: 2:30 - loss: 4.5378\n",
            "240/582 = 41.2%, SPS: 2.4, ELAP: 1:42, ETA: 2:25 - loss: 3.8992\n",
            "250/582 = 43.0%, SPS: 2.4, ELAP: 1:46, ETA: 2:20 - loss: 1.2742\n",
            "260/582 = 44.7%, SPS: 2.4, ELAP: 1:50, ETA: 2:16 - loss: 3.7413\n",
            "270/582 = 46.4%, SPS: 2.4, ELAP: 1:53, ETA: 2:11 - loss: 3.4869\n",
            "280/582 = 48.1%, SPS: 2.4, ELAP: 1:57, ETA: 2:07 - loss: 2.1521\n",
            "290/582 = 49.8%, SPS: 2.4, ELAP: 2:01, ETA: 2:02 - loss: 1.9293\n",
            "300/582 = 51.5%, SPS: 2.4, ELAP: 2:05, ETA: 1:58 - loss: 7.0895\n",
            "310/582 = 53.3%, SPS: 2.4, ELAP: 2:09, ETA: 1:53 - loss: 3.7201\n",
            "320/582 = 55.0%, SPS: 2.4, ELAP: 2:13, ETA: 1:49 - loss: 6.4639\n",
            "330/582 = 56.7%, SPS: 2.4, ELAP: 2:17, ETA: 1:44 - loss: 0.9708\n",
            "340/582 = 58.4%, SPS: 2.4, ELAP: 2:21, ETA: 1:40 - loss: 3.7990\n",
            "350/582 = 60.1%, SPS: 2.4, ELAP: 2:25, ETA: 1:36 - loss: 1.6858\n",
            "360/582 = 61.9%, SPS: 2.4, ELAP: 2:28, ETA: 1:32 - loss: 11.8184\n",
            "370/582 = 63.6%, SPS: 2.4, ELAP: 2:32, ETA: 1:27 - loss: 1.0706\n",
            "380/582 = 65.3%, SPS: 2.4, ELAP: 2:36, ETA: 1:23 - loss: 6.8291\n",
            "390/582 = 67.0%, SPS: 2.4, ELAP: 2:40, ETA: 1:19 - loss: 2.0711\n",
            "400/582 = 68.7%, SPS: 2.4, ELAP: 2:44, ETA: 1:15 - loss: 3.0060\n",
            "410/582 = 70.4%, SPS: 2.4, ELAP: 2:48, ETA: 1:10 - loss: 0.4924\n",
            "420/582 = 72.2%, SPS: 2.4, ELAP: 2:52, ETA: 1:06 - loss: 4.5341\n",
            "430/582 = 73.9%, SPS: 2.4, ELAP: 2:56, ETA: 1:02 - loss: 1.9422\n",
            "440/582 = 75.6%, SPS: 2.4, ELAP: 3:00, ETA: 58 - loss: 8.0214\n",
            "450/582 = 77.3%, SPS: 2.5, ELAP: 3:04, ETA: 54 - loss: 0.3356\n",
            "460/582 = 79.0%, SPS: 2.5, ELAP: 3:07, ETA: 50 - loss: 0.0467\n",
            "470/582 = 80.8%, SPS: 2.5, ELAP: 3:11, ETA: 46 - loss: 2.9944\n",
            "480/582 = 82.5%, SPS: 2.5, ELAP: 3:15, ETA: 41 - loss: 0.8394\n",
            "490/582 = 84.2%, SPS: 2.5, ELAP: 3:19, ETA: 37 - loss: 0.3316\n",
            "500/582 = 85.9%, SPS: 2.5, ELAP: 3:23, ETA: 33 - loss: 4.9446\n",
            "510/582 = 87.6%, SPS: 2.5, ELAP: 3:27, ETA: 29 - loss: 4.3484\n",
            "520/582 = 89.3%, SPS: 2.5, ELAP: 3:31, ETA: 25 - loss: 14.5281\n",
            "530/582 = 91.1%, SPS: 2.5, ELAP: 3:35, ETA: 21 - loss: 5.0170\n",
            "540/582 = 92.8%, SPS: 2.5, ELAP: 3:39, ETA: 17 - loss: 3.9466\n",
            "550/582 = 94.5%, SPS: 2.5, ELAP: 3:42, ETA: 13 - loss: 0.4529\n",
            "560/582 = 96.2%, SPS: 2.5, ELAP: 3:46, ETA: 9 - loss: 0.4466\n",
            "570/582 = 97.9%, SPS: 2.5, ELAP: 3:50, ETA: 5 - loss: 4.5521\n",
            "580/582 = 99.7%, SPS: 2.5, ELAP: 3:54, ETA: 1 - loss: 1.7282\n",
            "================================================================================\n",
            "Training Finished\n",
            "================================================================================\n",
            "================================================================================\n",
            "Start Evaluation\n",
            "================================================================================\n",
            "Evaluating sentimentclassification\n",
            "Loading dataset sentimentclassification_dev\n",
            "Existing tfrecords not found so creating\n",
            "Writing example 0 of 776\n",
            "WARNING: Entity <bound method Preprocessor._decode_tfrecord of <tfelectra.Preprocessor object at 0x7f6d1e52f668>> could not be transformed and will be executed as-is. Please report this to the AutoGraph team. When filing the bug, set the verbosity to 10 (on Linux, `export AUTOGRAPH_VERBOSITY=10`) and attach the full output. Cause: module 'gast' has no attribute 'Num'\n",
            "Building model...\n",
            "Building complete\n",
            "sentimentclassification: accuracy: 85.70 - loss: 0.66\n",
            "\n"
          ],
          "name": "stdout"
        }
      ]
    },
    {
      "cell_type": "code",
      "metadata": {
        "id": "wMb9Cs_6jhEG",
        "colab_type": "code",
        "colab": {
          "base_uri": "https://localhost:8080/",
          "height": 171
        },
        "outputId": "a9d51f9c-52f9-42a7-8d6f-215761082dd8"
      },
      "source": [
        "y = electra_model.test()"
      ],
      "execution_count": 20,
      "outputs": [
        {
          "output_type": "stream",
          "text": [
            "Writing out predictions for [Task(sentimentclassification)] test\n",
            "Loading dataset sentimentclassification_test\n",
            "Existing tfrecords not found so creating\n",
            "Writing example 0 of 970\n",
            "WARNING: Entity <bound method Preprocessor._decode_tfrecord of <tfelectra.Preprocessor object at 0x7f6d1e52f668>> could not be transformed and will be executed as-is. Please report this to the AutoGraph team. When filing the bug, set the verbosity to 10 (on Linux, `export AUTOGRAPH_VERBOSITY=10`) and attach the full output. Cause: module 'gast' has no attribute 'Num'\n",
            "Building model...\n",
            "Building complete\n",
            "Getting predictions for 970 sentimentclassification examples (test)\n"
          ],
          "name": "stdout"
        }
      ]
    },
    {
      "cell_type": "code",
      "metadata": {
        "id": "xupm5UAtIxNq",
        "colab_type": "code",
        "colab": {}
      },
      "source": [
        "data = y"
      ],
      "execution_count": 21,
      "outputs": []
    },
    {
      "cell_type": "code",
      "metadata": {
        "id": "sDleksrLIyw3",
        "colab_type": "code",
        "colab": {
          "base_uri": "https://localhost:8080/",
          "height": 34
        },
        "outputId": "307b6076-aa6f-4f41-cf8c-80a22b2cf3d9"
      },
      "source": [
        "len(data)"
      ],
      "execution_count": 22,
      "outputs": [
        {
          "output_type": "execute_result",
          "data": {
            "text/plain": [
              "970"
            ]
          },
          "metadata": {
            "tags": []
          },
          "execution_count": 22
        }
      ]
    },
    {
      "cell_type": "code",
      "metadata": {
        "id": "BBoMuNmLI0V8",
        "colab_type": "code",
        "colab": {}
      },
      "source": [
        "y_pred = [np.argmax(data[d]) for d in data]"
      ],
      "execution_count": 26,
      "outputs": []
    },
    {
      "cell_type": "code",
      "metadata": {
        "id": "5LTaUNrQI3hW",
        "colab_type": "code",
        "colab": {}
      },
      "source": [
        "df_y = pd.read_csv(\"/content/electra/data/finetuning_data/sentimentclassification/test.csv\", sep=\",\")\n",
        "y = df_y[\"label\"]"
      ],
      "execution_count": 27,
      "outputs": []
    },
    {
      "cell_type": "code",
      "metadata": {
        "id": "fI1PTj0nI5ut",
        "colab_type": "code",
        "colab": {
          "base_uri": "https://localhost:8080/",
          "height": 34
        },
        "outputId": "7be2a5a2-b340-4e80-b647-2b4d0e41b7d2"
      },
      "source": [
        "correct = np.sum(y == y_pred)\n",
        "correct/len(y)"
      ],
      "execution_count": 28,
      "outputs": [
        {
          "output_type": "execute_result",
          "data": {
            "text/plain": [
              "0.8824742268041237"
            ]
          },
          "metadata": {
            "tags": []
          },
          "execution_count": 28
        }
      ]
    },
    {
      "cell_type": "code",
      "metadata": {
        "id": "g0faj-J1qx1L",
        "colab_type": "code",
        "colab": {
          "base_uri": "https://localhost:8080/",
          "height": 134
        },
        "outputId": "ac25c6e9-21c9-4e72-9583-34265304f5f9"
      },
      "source": [
        "report(y, y_pred)"
      ],
      "execution_count": 29,
      "outputs": [
        {
          "output_type": "stream",
          "text": [
            "[[107  16   1]\n",
            " [ 14 528  41]\n",
            " [  6  36 221]]\n",
            "Accuracy: 0.882\n",
            "Precision: 0.864\n",
            "Recall: 0.870\n",
            "F1-Score: 0.867\n"
          ],
          "name": "stdout"
        }
      ]
    },
    {
      "cell_type": "code",
      "metadata": {
        "id": "pq7Pxz5bqhmD",
        "colab_type": "code",
        "colab": {}
      },
      "source": [
        "def report(y_true, y_pred):\n",
        "  print(confusion_matrix(y_true, y_pred)) \n",
        "  print(\"Accuracy: {0:.3f}\".format(accuracy_score(y_true, y_pred))) \n",
        "  print(\"Precision: {0:.3f}\".format(precision_score(y_true, y_pred, average=\"macro\")))\n",
        "  print(\"Recall: {0:.3f}\".format(recall_score(y_true, y_pred, average=\"macro\")))\n",
        "  print(\"F1-Score: {0:.3f}\".format(f1_score(y_true, y_pred, average=\"macro\")))"
      ],
      "execution_count": 25,
      "outputs": []
    },
    {
      "cell_type": "code",
      "metadata": {
        "id": "NiGlUYJb-CAG",
        "colab_type": "code",
        "colab": {}
      },
      "source": [
        "import numpy as np\n",
        "import pandas as pd\n",
        "import numpy as np\n",
        "import pandas as pd\n",
        "import sklearn\n",
        "from sklearn.metrics import confusion_matrix \n",
        "from sklearn.metrics import accuracy_score \n",
        "from sklearn.metrics import classification_report \n",
        "from sklearn.metrics import precision_score, recall_score, f1_score, accuracy_score\n",
        "import pickle\n"
      ],
      "execution_count": 24,
      "outputs": []
    },
    {
      "cell_type": "code",
      "metadata": {
        "id": "xiQSIJ9sSwfA",
        "colab_type": "code",
        "colab": {}
      },
      "source": [
        ""
      ],
      "execution_count": null,
      "outputs": []
    }
  ]
}