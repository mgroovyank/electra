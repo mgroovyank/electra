{
  "nbformat": 4,
  "nbformat_minor": 0,
  "metadata": {
    "colab": {
      "name": "generic.ipynb",
      "provenance": [],
      "collapsed_sections": []
    },
    "kernelspec": {
      "name": "python3",
      "display_name": "Python 3"
    },
    "accelerator": "GPU"
  },
  "cells": [
    {
      "cell_type": "code",
      "metadata": {
        "id": "kVDCXOiq79B4",
        "colab_type": "code",
        "outputId": "c7797e51-b768-41bf-bab6-850bf5601061",
        "colab": {
          "base_uri": "https://localhost:8080/",
          "height": 134
        }
      },
      "source": [
        "!git clone https://github.com/mgroovyank/electra.git"
      ],
      "execution_count": 1,
      "outputs": [
        {
          "output_type": "stream",
          "text": [
            "Cloning into 'electra'...\n",
            "remote: Enumerating objects: 60, done.\u001b[K\n",
            "remote: Counting objects: 100% (60/60), done.\u001b[K\n",
            "remote: Compressing objects: 100% (59/59), done.\u001b[K\n",
            "remote: Total 165 (delta 31), reused 0 (delta 0), pack-reused 105\u001b[K\n",
            "Receiving objects: 100% (165/165), 119.37 KiB | 763.00 KiB/s, done.\n",
            "Resolving deltas: 100% (78/78), done.\n"
          ],
          "name": "stdout"
        }
      ]
    },
    {
      "cell_type": "code",
      "metadata": {
        "id": "umwyJilw8G4B",
        "colab_type": "code",
        "outputId": "836a7e88-2966-4249-e48a-1cc79c2997bd",
        "colab": {
          "base_uri": "https://localhost:8080/",
          "height": 34
        }
      },
      "source": [
        "cd electra"
      ],
      "execution_count": 2,
      "outputs": [
        {
          "output_type": "stream",
          "text": [
            "/content/electra\n"
          ],
          "name": "stdout"
        }
      ]
    },
    {
      "cell_type": "code",
      "metadata": {
        "id": "uqdjpoKt9Yuk",
        "colab_type": "code",
        "colab": {}
      },
      "source": [
        "! mkdir ./data\n",
        "! mkdir ./data/finetuning_data\n",
        "! mkdir ./data/finetuning_data/newmovies\n",
        "! mkdir ./data/models"
      ],
      "execution_count": 0,
      "outputs": []
    },
    {
      "cell_type": "code",
      "metadata": {
        "id": "KRg8qTtF9akI",
        "colab_type": "code",
        "outputId": "056ec78c-9ada-4f29-c6cc-588838753dc9",
        "colab": {
          "base_uri": "https://localhost:8080/",
          "height": 202
        }
      },
      "source": [
        "!wget https://storage.googleapis.com/electra-data/electra_base.zip"
      ],
      "execution_count": 4,
      "outputs": [
        {
          "output_type": "stream",
          "text": [
            "--2020-06-02 04:09:09--  https://storage.googleapis.com/electra-data/electra_base.zip\n",
            "Resolving storage.googleapis.com (storage.googleapis.com)... 108.177.119.128, 2a00:1450:4013:c00::80\n",
            "Connecting to storage.googleapis.com (storage.googleapis.com)|108.177.119.128|:443... connected.\n",
            "HTTP request sent, awaiting response... 200 OK\n",
            "Length: 885890161 (845M) [application/zip]\n",
            "Saving to: ‘electra_base.zip’\n",
            "\n",
            "electra_base.zip    100%[===================>] 844.85M  59.3MB/s    in 14s     \n",
            "\n",
            "2020-06-02 04:09:24 (58.8 MB/s) - ‘electra_base.zip’ saved [885890161/885890161]\n",
            "\n"
          ],
          "name": "stdout"
        }
      ]
    },
    {
      "cell_type": "code",
      "metadata": {
        "id": "LXdmTQlI9eb3",
        "colab_type": "code",
        "outputId": "97b1634d-15af-4e09-85eb-4a80ea577e2c",
        "colab": {
          "base_uri": "https://localhost:8080/",
          "height": 134
        }
      },
      "source": [
        "!unzip electra_base.zip"
      ],
      "execution_count": 5,
      "outputs": [
        {
          "output_type": "stream",
          "text": [
            "Archive:  electra_base.zip\n",
            "   creating: electra_base/\n",
            "  inflating: electra_base/electra_base.meta  \n",
            "  inflating: electra_base/electra_base.index  \n",
            "  inflating: electra_base/checkpoint  \n",
            "  inflating: electra_base/vocab.txt  \n",
            "  inflating: electra_base/electra_base.data-00000-of-00001  \n"
          ],
          "name": "stdout"
        }
      ]
    },
    {
      "cell_type": "code",
      "metadata": {
        "id": "b5Hu_eCd9jaQ",
        "colab_type": "code",
        "colab": {}
      },
      "source": [
        "! mv  electra_base ./data/models"
      ],
      "execution_count": 0,
      "outputs": []
    },
    {
      "cell_type": "code",
      "metadata": {
        "id": "FulbSBkq9nTl",
        "colab_type": "code",
        "outputId": "ae1e8e49-cbe1-465c-b452-0e901f87b762",
        "colab": {
          "base_uri": "https://localhost:8080/",
          "height": 34
        }
      },
      "source": [
        "%tensorflow_version 1.x"
      ],
      "execution_count": 7,
      "outputs": [
        {
          "output_type": "stream",
          "text": [
            "TensorFlow 1.x selected.\n"
          ],
          "name": "stdout"
        }
      ]
    },
    {
      "cell_type": "code",
      "metadata": {
        "id": "tIwCnpsVXGUJ",
        "colab_type": "code",
        "colab": {}
      },
      "source": [
        "import importlib\n",
        "import run_finetuning"
      ],
      "execution_count": 0,
      "outputs": []
    },
    {
      "cell_type": "code",
      "metadata": {
        "id": "NAq8UI56FUs-",
        "colab_type": "code",
        "outputId": "73889489-fd62-474b-b53c-935b0d66f54a",
        "colab": {
          "base_uri": "https://localhost:8080/",
          "height": 34
        }
      },
      "source": [
        "importlib.reload(run_finetuning)"
      ],
      "execution_count": 24,
      "outputs": [
        {
          "output_type": "execute_result",
          "data": {
            "text/plain": [
              "<module 'run_finetuning' from '/content/electra/run_finetuning.py'>"
            ]
          },
          "metadata": {
            "tags": []
          },
          "execution_count": 24
        }
      ]
    },
    {
      "cell_type": "code",
      "metadata": {
        "id": "imSQslOQYNH6",
        "colab_type": "code",
        "colab": {}
      },
      "source": [
        "configs = {\n",
        "    \"data_dir\" : \"/content/electra/data\",\n",
        "    \"model_name\" : \"electra_base\",\n",
        "    \"hparams\":{\n",
        "        \"model_size\":\"base\",\n",
        "        \"task_names\":[\"newmovies\"],\n",
        "        \"tasks\": {\n",
        "            \"newmovies\":{\n",
        "                \"type\":\"classification\",\n",
        "                \"labels\":[\"negative\",\"neutral\",\"positive\"],\n",
        "                \"header\":True,\n",
        "                \"text_column\":1,\n",
        "                \"label_column\":2\n",
        "                }\n",
        "        }\n",
        "    }\n",
        "}"
      ],
      "execution_count": 0,
      "outputs": []
    },
    {
      "cell_type": "code",
      "metadata": {
        "id": "_LzuYmnTazi1",
        "colab_type": "code",
        "outputId": "a07150fb-3781-4244-fcc1-dd9a1581ead8",
        "colab": {
          "base_uri": "https://localhost:8080/",
          "height": 1000
        }
      },
      "source": [
        "electra_model = run_finetuning.electra_finetuning(configs)"
      ],
      "execution_count": 10,
      "outputs": [
        {
          "output_type": "stream",
          "text": [
            "================================================================================\n",
            "Config: model=electra_base, trial 1/1\n",
            "================================================================================\n",
            "answerable_classifier True\n",
            "answerable_uses_start_logits True\n",
            "answerable_weight 0.5\n",
            "beam_size 20\n",
            "data_dir /content/electra/data\n",
            "debug False\n",
            "do_eval True\n",
            "do_lower_case True\n",
            "do_train True\n",
            "doc_stride 128\n",
            "double_unordered True\n",
            "embedding_size None\n",
            "eval_batch_size 8\n",
            "gcp_project None\n",
            "init_checkpoint /content/electra/data/models/electra_base\n",
            "iterations_per_loop 1000\n",
            "joint_prediction True\n",
            "keep_all_models True\n",
            "layerwise_lr_decay 0.8\n",
            "learning_rate 5e-05\n",
            "log_examples False\n",
            "max_answer_length 30\n",
            "max_query_length 64\n",
            "max_seq_length 64\n",
            "model_dir /content/electra/data/models/electra_base/finetuning_models/newmovies_model\n",
            "model_hparam_overrides {}\n",
            "model_name electra_base\n",
            "model_size base\n",
            "n_best_size 20\n",
            "n_writes_test 5\n",
            "num_tpu_cores 1\n",
            "num_train_epochs 3.0\n",
            "num_trials 1\n",
            "predict_batch_size 8\n",
            "preprocessed_data_dir /content/electra/data/models/electra_base/finetuning_tfrecords/newmovies_tfrecords\n",
            "qa_eval_file <built-in method format of str object at 0x7fc6f3ff2b30>\n",
            "qa_na_file <built-in method format of str object at 0x7fc73d46c9c0>\n",
            "qa_na_threshold -2.75\n",
            "qa_preds_file <built-in method format of str object at 0x7fc6f3ff2bb0>\n",
            "raw_data_dir <built-in method format of str object at 0x7fc6f536b870>\n",
            "results_pkl /content/electra/data/models/electra_base/results/newmovies_results.pkl\n",
            "results_txt /content/electra/data/models/electra_base/results/newmovies_results.txt\n",
            "save_checkpoints_steps 1000000\n",
            "task_names ['newmovies']\n",
            "tasks {'newmovies': {'type': 'classification', 'labels': ['negative', 'neutral', 'positive'], 'header': True, 'text_column': 1, 'label_column': 2}}\n",
            "test_predictions <built-in method format of str object at 0x7fc6f40108b0>\n",
            "tpu_job_name None\n",
            "tpu_name None\n",
            "tpu_zone None\n",
            "train_batch_size 16\n",
            "use_tfrecords_if_existing True\n",
            "use_tpu False\n",
            "vocab_file /content/electra/data/models/electra_base/vocab.txt\n",
            "vocab_size 30522\n",
            "warmup_proportion 0.1\n",
            "weight_decay_rate 0.01\n",
            "write_test_outputs True\n",
            "\n",
            "Loading dataset newmovies_train\n",
            "Existing tfrecords not found so creating\n",
            "Writing example 0 of 3100\n",
            "Writing example 2000 of 3100\n"
          ],
          "name": "stdout"
        }
      ]
    },
    {
      "cell_type": "code",
      "metadata": {
        "id": "MWcPJQx7fEoO",
        "colab_type": "code",
        "outputId": "facbbe0f-a2d4-4f01-e4e0-62d01bd31579",
        "colab": {
          "base_uri": "https://localhost:8080/",
          "height": 1000
        }
      },
      "source": [
        "electra_model.train()"
      ],
      "execution_count": 11,
      "outputs": [
        {
          "output_type": "stream",
          "text": [
            "Training for 582 steps\n",
            "WARNING: Entity <bound method Preprocessor._decode_tfrecord of <finetune.preprocessing.Preprocessor object at 0x7fc6f3e21748>> could not be transformed and will be executed as-is. Please report this to the AutoGraph team. When filing the bug, set the verbosity to 10 (on Linux, `export AUTOGRAPH_VERBOSITY=10`) and attach the full output. Cause: module 'gast' has no attribute 'Num'\n",
            "Building model...\n",
            "Building complete\n",
            "10/582 = 1.7%, SPS: 0.9, ELAP: 12, ETA: 10:58 - loss: 14.7729\n",
            "20/582 = 3.4%, SPS: 1.4, ELAP: 14, ETA: 6:35 - loss: 11.8854\n",
            "30/582 = 5.2%, SPS: 1.8, ELAP: 17, ETA: 5:06 - loss: 13.2106\n",
            "40/582 = 6.9%, SPS: 2.1, ELAP: 19, ETA: 4:20 - loss: 16.9412\n",
            "50/582 = 8.6%, SPS: 2.3, ELAP: 22, ETA: 3:51 - loss: 8.7124\n",
            "60/582 = 10.3%, SPS: 2.5, ELAP: 24, ETA: 3:32 - loss: 10.5713\n",
            "70/582 = 12.0%, SPS: 2.6, ELAP: 27, ETA: 3:17 - loss: 3.1728\n",
            "80/582 = 13.7%, SPS: 2.7, ELAP: 29, ETA: 3:05 - loss: 12.7623\n",
            "90/582 = 15.5%, SPS: 2.8, ELAP: 32, ETA: 2:55 - loss: 7.8257\n",
            "100/582 = 17.2%, SPS: 2.9, ELAP: 35, ETA: 2:47 - loss: 6.9918\n",
            "110/582 = 18.9%, SPS: 3.0, ELAP: 37, ETA: 2:40 - loss: 9.9094\n",
            "120/582 = 20.6%, SPS: 3.0, ELAP: 40, ETA: 2:33 - loss: 3.6210\n",
            "130/582 = 22.3%, SPS: 3.1, ELAP: 42, ETA: 2:28 - loss: 5.7966\n",
            "140/582 = 24.1%, SPS: 3.1, ELAP: 45, ETA: 2:22 - loss: 5.2215\n",
            "150/582 = 25.8%, SPS: 3.1, ELAP: 48, ETA: 2:17 - loss: 3.3137\n",
            "160/582 = 27.5%, SPS: 3.2, ELAP: 50, ETA: 2:13 - loss: 12.6368\n",
            "170/582 = 29.2%, SPS: 3.2, ELAP: 53, ETA: 2:08 - loss: 3.8493\n",
            "180/582 = 30.9%, SPS: 3.2, ELAP: 55, ETA: 2:04 - loss: 7.4046\n",
            "190/582 = 32.6%, SPS: 3.3, ELAP: 58, ETA: 2:00 - loss: 3.0355\n",
            "200/582 = 34.4%, SPS: 3.3, ELAP: 1:01, ETA: 1:56 - loss: 3.9488\n",
            "210/582 = 36.1%, SPS: 3.3, ELAP: 1:03, ETA: 1:52 - loss: 6.0761\n",
            "220/582 = 37.8%, SPS: 3.3, ELAP: 1:06, ETA: 1:49 - loss: 4.0619\n",
            "230/582 = 39.5%, SPS: 3.4, ELAP: 1:09, ETA: 1:45 - loss: 2.0401\n",
            "240/582 = 41.2%, SPS: 3.4, ELAP: 1:11, ETA: 1:41 - loss: 2.5644\n",
            "250/582 = 43.0%, SPS: 3.4, ELAP: 1:14, ETA: 1:38 - loss: 5.0735\n",
            "260/582 = 44.7%, SPS: 3.4, ELAP: 1:16, ETA: 1:35 - loss: 3.7589\n",
            "270/582 = 46.4%, SPS: 3.4, ELAP: 1:19, ETA: 1:31 - loss: 1.0404\n",
            "280/582 = 48.1%, SPS: 3.4, ELAP: 1:22, ETA: 1:28 - loss: 5.8542\n",
            "290/582 = 49.8%, SPS: 3.4, ELAP: 1:24, ETA: 1:25 - loss: 2.7561\n",
            "300/582 = 51.5%, SPS: 3.4, ELAP: 1:27, ETA: 1:22 - loss: 2.2577\n",
            "310/582 = 53.3%, SPS: 3.5, ELAP: 1:30, ETA: 1:19 - loss: 7.7779\n",
            "320/582 = 55.0%, SPS: 3.5, ELAP: 1:32, ETA: 1:16 - loss: 2.9133\n",
            "330/582 = 56.7%, SPS: 3.5, ELAP: 1:35, ETA: 1:13 - loss: 0.6676\n",
            "340/582 = 58.4%, SPS: 3.5, ELAP: 1:38, ETA: 1:09 - loss: 1.6449\n",
            "350/582 = 60.1%, SPS: 3.5, ELAP: 1:40, ETA: 1:06 - loss: 7.3781\n",
            "360/582 = 61.9%, SPS: 3.5, ELAP: 1:43, ETA: 1:03 - loss: 0.5383\n",
            "370/582 = 63.6%, SPS: 3.5, ELAP: 1:46, ETA: 1:00 - loss: 5.6017\n",
            "380/582 = 65.3%, SPS: 3.5, ELAP: 1:48, ETA: 58 - loss: 1.0043\n",
            "390/582 = 67.0%, SPS: 3.5, ELAP: 1:51, ETA: 55 - loss: 2.3343\n",
            "400/582 = 68.7%, SPS: 3.5, ELAP: 1:54, ETA: 52 - loss: 1.7213\n",
            "410/582 = 70.4%, SPS: 3.5, ELAP: 1:56, ETA: 49 - loss: 3.4358\n",
            "420/582 = 72.2%, SPS: 3.5, ELAP: 1:59, ETA: 46 - loss: 0.6257\n",
            "430/582 = 73.9%, SPS: 3.5, ELAP: 2:02, ETA: 43 - loss: 2.7575\n",
            "440/582 = 75.6%, SPS: 3.5, ELAP: 2:04, ETA: 40 - loss: 0.2483\n",
            "450/582 = 77.3%, SPS: 3.5, ELAP: 2:07, ETA: 37 - loss: 0.4502\n",
            "460/582 = 79.0%, SPS: 3.6, ELAP: 2:10, ETA: 34 - loss: 2.0519\n",
            "470/582 = 80.8%, SPS: 3.6, ELAP: 2:12, ETA: 32 - loss: 2.5120\n",
            "480/582 = 82.5%, SPS: 3.6, ELAP: 2:15, ETA: 29 - loss: 0.0728\n",
            "490/582 = 84.2%, SPS: 3.6, ELAP: 2:18, ETA: 26 - loss: 3.0878\n",
            "500/582 = 85.9%, SPS: 3.6, ELAP: 2:20, ETA: 23 - loss: 0.1738\n",
            "510/582 = 87.6%, SPS: 3.6, ELAP: 2:23, ETA: 20 - loss: 0.8394\n",
            "520/582 = 89.3%, SPS: 3.6, ELAP: 2:26, ETA: 17 - loss: 1.2327\n",
            "530/582 = 91.1%, SPS: 3.6, ELAP: 2:28, ETA: 15 - loss: 0.7900\n",
            "540/582 = 92.8%, SPS: 3.6, ELAP: 2:31, ETA: 12 - loss: 0.1558\n",
            "550/582 = 94.5%, SPS: 3.6, ELAP: 2:34, ETA: 9 - loss: 3.0530\n",
            "560/582 = 96.2%, SPS: 3.6, ELAP: 2:36, ETA: 6 - loss: 1.0577\n",
            "570/582 = 97.9%, SPS: 3.6, ELAP: 2:39, ETA: 3 - loss: 5.4124\n",
            "580/582 = 99.7%, SPS: 3.6, ELAP: 2:42, ETA: 1 - loss: 0.0218\n"
          ],
          "name": "stdout"
        }
      ]
    },
    {
      "cell_type": "code",
      "metadata": {
        "id": "0vxkghfbg3Xg",
        "colab_type": "code",
        "outputId": "00be912f-917a-4b5b-8e6c-49eaa95c91e6",
        "colab": {
          "base_uri": "https://localhost:8080/",
          "height": 171
        }
      },
      "source": [
        "electra_model.evaluate()"
      ],
      "execution_count": 43,
      "outputs": [
        {
          "output_type": "stream",
          "text": [
            "Evaluating newmovies\n",
            "Loading dataset newmovies_dev\n",
            "WARNING: Entity <bound method Preprocessor._decode_tfrecord of <finetune.preprocessing.Preprocessor object at 0x7f084f15aa20>> could not be transformed and will be executed as-is. Please report this to the AutoGraph team. When filing the bug, set the verbosity to 10 (on Linux, `export AUTOGRAPH_VERBOSITY=10`) and attach the full output. Cause: module 'gast' has no attribute 'Num'\n",
            "Building model...\n",
            "Building complete\n",
            "newmovies: accuracy: 85.70 - loss: 0.66\n",
            "\n"
          ],
          "name": "stdout"
        },
        {
          "output_type": "execute_result",
          "data": {
            "text/plain": [
              "{'newmovies': {'accuracy': 85.69587628865979, 'loss': 0.6611128783163144}}"
            ]
          },
          "metadata": {
            "tags": []
          },
          "execution_count": 43
        }
      ]
    },
    {
      "cell_type": "code",
      "metadata": {
        "id": "wMb9Cs_6jhEG",
        "colab_type": "code",
        "outputId": "69383118-7af4-4b0a-c34a-0affa392da34",
        "colab": {
          "base_uri": "https://localhost:8080/",
          "height": 138
        }
      },
      "source": [
        "electra_model.test()"
      ],
      "execution_count": 44,
      "outputs": [
        {
          "output_type": "stream",
          "text": [
            "Writing out predictions for [Task(newmovies)] test\n",
            "Loading dataset newmovies_test\n",
            "WARNING: Entity <bound method Preprocessor._decode_tfrecord of <finetune.preprocessing.Preprocessor object at 0x7f084f15aa20>> could not be transformed and will be executed as-is. Please report this to the AutoGraph team. When filing the bug, set the verbosity to 10 (on Linux, `export AUTOGRAPH_VERBOSITY=10`) and attach the full output. Cause: module 'gast' has no attribute 'Num'\n",
            "Building model...\n",
            "Building complete\n",
            "Pickling predictions for 970 newmovies examples (test)\n"
          ],
          "name": "stdout"
        }
      ]
    },
    {
      "cell_type": "code",
      "metadata": {
        "id": "NiGlUYJb-CAG",
        "colab_type": "code",
        "colab": {}
      },
      "source": [
        "import numpy as np\n",
        "import pandas as pd\n",
        "import numpy as np\n",
        "import pandas as pd\n",
        "import sklearn\n",
        "from sklearn.metrics import confusion_matrix \n",
        "from sklearn.metrics import accuracy_score \n",
        "from sklearn.metrics import classification_report "
      ],
      "execution_count": 0,
      "outputs": []
    },
    {
      "cell_type": "code",
      "metadata": {
        "id": "xupm5UAtIxNq",
        "colab_type": "code",
        "colab": {}
      },
      "source": [
        "import pickle\n",
        "data = pickle.load(open(\"/content/electra/data/models/electra_base/test_predictions/newmovies_test_1_predictions.pkl\", \"rb\"))"
      ],
      "execution_count": 0,
      "outputs": []
    },
    {
      "cell_type": "code",
      "metadata": {
        "id": "sDleksrLIyw3",
        "colab_type": "code",
        "outputId": "496ffd8a-b96f-4658-9120-21b5673cb95e",
        "colab": {
          "base_uri": "https://localhost:8080/",
          "height": 34
        }
      },
      "source": [
        "len(data)"
      ],
      "execution_count": 46,
      "outputs": [
        {
          "output_type": "execute_result",
          "data": {
            "text/plain": [
              "970"
            ]
          },
          "metadata": {
            "tags": []
          },
          "execution_count": 46
        }
      ]
    },
    {
      "cell_type": "code",
      "metadata": {
        "id": "BBoMuNmLI0V8",
        "colab_type": "code",
        "colab": {}
      },
      "source": [
        "y_pred = [np.argmax(data[d]) for d in data]"
      ],
      "execution_count": 0,
      "outputs": []
    },
    {
      "cell_type": "code",
      "metadata": {
        "id": "5LTaUNrQI3hW",
        "colab_type": "code",
        "colab": {}
      },
      "source": [
        "df_y = pd.read_csv(\"/content/electra/data/finetuning_data/newmovies/test.tsv\", sep=\"\\t\")\n",
        "y = df_y[\"label\"]"
      ],
      "execution_count": 0,
      "outputs": []
    },
    {
      "cell_type": "code",
      "metadata": {
        "id": "fI1PTj0nI5ut",
        "colab_type": "code",
        "outputId": "86be9fba-bcf6-4895-e37f-675b6217cf86",
        "colab": {
          "base_uri": "https://localhost:8080/",
          "height": 34
        }
      },
      "source": [
        "correct = np.sum(y == y_pred)\n",
        "correct/970"
      ],
      "execution_count": 49,
      "outputs": [
        {
          "output_type": "execute_result",
          "data": {
            "text/plain": [
              "0.8793814432989691"
            ]
          },
          "metadata": {
            "tags": []
          },
          "execution_count": 49
        }
      ]
    },
    {
      "cell_type": "code",
      "metadata": {
        "id": "1IHBelVBI8hN",
        "colab_type": "code",
        "outputId": "7cfef12a-0551-428d-9a50-c0234eee559f",
        "colab": {
          "base_uri": "https://localhost:8080/",
          "height": 185
        }
      },
      "source": [
        "print(classification_report(y, y_pred))"
      ],
      "execution_count": 50,
      "outputs": [
        {
          "output_type": "stream",
          "text": [
            "              precision    recall  f1-score   support\n",
            "\n",
            "           0       0.86      0.85      0.85       124\n",
            "           1       0.92      0.89      0.90       583\n",
            "           2       0.81      0.87      0.84       263\n",
            "\n",
            "    accuracy                           0.88       970\n",
            "   macro avg       0.86      0.87      0.87       970\n",
            "weighted avg       0.88      0.88      0.88       970\n",
            "\n"
          ],
          "name": "stdout"
        }
      ]
    },
    {
      "cell_type": "code",
      "metadata": {
        "id": "bsXE_dPxI-E4",
        "colab_type": "code",
        "colab": {}
      },
      "source": [
        ""
      ],
      "execution_count": 0,
      "outputs": []
    }
  ]
}