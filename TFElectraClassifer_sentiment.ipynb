{
  "nbformat": 4,
  "nbformat_minor": 0,
  "metadata": {
    "colab": {
      "name": "TFElectraClassifer_sentiment.ipynb",
      "provenance": [],
      "collapsed_sections": []
    },
    "kernelspec": {
      "name": "python3",
      "display_name": "Python 3"
    },
    "accelerator": "GPU"
  },
  "cells": [
    {
      "cell_type": "code",
      "metadata": {
        "id": "jTg27_-SIZQk",
        "colab_type": "code",
        "colab": {}
      },
      "source": [
        "import pandas as pd\n",
        "import importlib"
      ],
      "execution_count": null,
      "outputs": []
    },
    {
      "cell_type": "code",
      "metadata": {
        "id": "kVDCXOiq79B4",
        "colab_type": "code",
        "colab": {
          "base_uri": "https://localhost:8080/",
          "height": 134
        },
        "outputId": "514783a2-b59b-4db5-9d20-fb6f9d420791"
      },
      "source": [
        "!git clone https://github.com/mgroovyank/electra.git"
      ],
      "execution_count": null,
      "outputs": [
        {
          "output_type": "stream",
          "text": [
            "Cloning into 'electra'...\n",
            "remote: Enumerating objects: 3, done.\u001b[K\n",
            "remote: Counting objects: 100% (3/3), done.\u001b[K\n",
            "remote: Compressing objects: 100% (3/3), done.\u001b[K\n",
            "remote: Total 375 (delta 0), reused 0 (delta 0), pack-reused 372\u001b[K\n",
            "Receiving objects: 100% (375/375), 188.88 KiB | 920.00 KiB/s, done.\n",
            "Resolving deltas: 100% (221/221), done.\n"
          ],
          "name": "stdout"
        }
      ]
    },
    {
      "cell_type": "code",
      "metadata": {
        "id": "umwyJilw8G4B",
        "colab_type": "code",
        "colab": {
          "base_uri": "https://localhost:8080/",
          "height": 34
        },
        "outputId": "b53223c0-0e49-420b-938f-9c10562dd032"
      },
      "source": [
        "cd electra"
      ],
      "execution_count": null,
      "outputs": [
        {
          "output_type": "stream",
          "text": [
            "/content/electra\n"
          ],
          "name": "stdout"
        }
      ]
    },
    {
      "cell_type": "code",
      "metadata": {
        "id": "uqdjpoKt9Yuk",
        "colab_type": "code",
        "colab": {}
      },
      "source": [
        "! mkdir ./data\n",
        "#! mkdir ./data/finetuning_data\n",
        "#! mkdir ./data/finetuning_data/sentimentclassification\n",
        "#! mkdir ./data/models"
      ],
      "execution_count": null,
      "outputs": []
    },
    {
      "cell_type": "code",
      "metadata": {
        "id": "KRg8qTtF9akI",
        "colab_type": "code",
        "colab": {
          "base_uri": "https://localhost:8080/",
          "height": 202
        },
        "outputId": "89f0a900-839b-4c15-c6ef-e645ac420764"
      },
      "source": [
        "!wget https://storage.googleapis.com/electra-data/electra_small.zip"
      ],
      "execution_count": null,
      "outputs": [
        {
          "output_type": "stream",
          "text": [
            "--2020-06-21 05:43:50--  https://storage.googleapis.com/electra-data/electra_small.zip\n",
            "Resolving storage.googleapis.com (storage.googleapis.com)... 64.233.166.128, 2a00:1450:400c:c02::80\n",
            "Connecting to storage.googleapis.com (storage.googleapis.com)|64.233.166.128|:443... connected.\n",
            "HTTP request sent, awaiting response... 200 OK\n",
            "Length: 171877176 (164M) [application/zip]\n",
            "Saving to: ‘electra_small.zip’\n",
            "\n",
            "electra_small.zip   100%[===================>] 163.91M  35.5MB/s    in 4.6s    \n",
            "\n",
            "2020-06-21 05:43:55 (35.5 MB/s) - ‘electra_small.zip’ saved [171877176/171877176]\n",
            "\n"
          ],
          "name": "stdout"
        }
      ]
    },
    {
      "cell_type": "code",
      "metadata": {
        "id": "LXdmTQlI9eb3",
        "colab_type": "code",
        "colab": {
          "base_uri": "https://localhost:8080/",
          "height": 134
        },
        "outputId": "48409dd5-360a-49d7-f339-857284b29e7d"
      },
      "source": [
        "!unzip electra_small.zip"
      ],
      "execution_count": null,
      "outputs": [
        {
          "output_type": "stream",
          "text": [
            "Archive:  electra_small.zip\n",
            "   creating: electra_small/\n",
            "  inflating: electra_small/checkpoint  \n",
            "  inflating: electra_small/electra_small.meta  \n",
            "  inflating: electra_small/electra_small.data-00000-of-00001  \n",
            "  inflating: electra_small/electra_small.index  \n",
            "  inflating: electra_small/vocab.txt  \n"
          ],
          "name": "stdout"
        }
      ]
    },
    {
      "cell_type": "code",
      "metadata": {
        "id": "b5Hu_eCd9jaQ",
        "colab_type": "code",
        "colab": {}
      },
      "source": [
        "#! mv  electra_small ./data/models"
      ],
      "execution_count": null,
      "outputs": []
    },
    {
      "cell_type": "code",
      "metadata": {
        "id": "FulbSBkq9nTl",
        "colab_type": "code",
        "colab": {
          "base_uri": "https://localhost:8080/",
          "height": 34
        },
        "outputId": "762ac749-eaa9-4a5c-b1b0-b8b7e6cf7c18"
      },
      "source": [
        "%tensorflow_version 1.x"
      ],
      "execution_count": null,
      "outputs": [
        {
          "output_type": "stream",
          "text": [
            "TensorFlow 1.x selected.\n"
          ],
          "name": "stdout"
        }
      ]
    },
    {
      "cell_type": "code",
      "metadata": {
        "id": "1dx17BfMI13e",
        "colab_type": "code",
        "colab": {}
      },
      "source": [
        "train = pd.read_csv(\"/content/drive/My Drive/fin-bank/train.tsv\", sep=\"\\t\")\n",
        "dev = pd.read_csv(\"/content/drive/My Drive/fin-bank/dev.tsv\", sep=\"\\t\")\n",
        "test = pd.read_csv(\"/content/drive/My Drive/fin-bank/test.tsv\", sep=\"\\t\")"
      ],
      "execution_count": null,
      "outputs": []
    },
    {
      "cell_type": "code",
      "metadata": {
        "id": "ycToYdSlI_7Y",
        "colab_type": "code",
        "colab": {}
      },
      "source": [
        "train.to_csv(\"/content/electra/data/train.csv\", index=False, sep=\",\")\n",
        "dev.to_csv(\"/content/electra/data/dev.csv\", index=False, sep=\",\")\n",
        "test.to_csv(\"/content/electra/data/test.csv\", index=False, sep=\",\")"
      ],
      "execution_count": null,
      "outputs": []
    },
    {
      "cell_type": "code",
      "metadata": {
        "id": "tIwCnpsVXGUJ",
        "colab_type": "code",
        "colab": {}
      },
      "source": [
        "from tfelectra import Configs, ElectraClassification"
      ],
      "execution_count": null,
      "outputs": []
    },
    {
      "cell_type": "code",
      "metadata": {
        "id": "NAq8UI56FUs-",
        "colab_type": "code",
        "colab": {
          "base_uri": "https://localhost:8080/",
          "height": 34
        },
        "outputId": "36529d04-4ee9-495d-cece-37f4cba75977"
      },
      "source": [
        "importlib.reload(tfelectra)"
      ],
      "execution_count": null,
      "outputs": [
        {
          "output_type": "execute_result",
          "data": {
            "text/plain": [
              "<module 'tfelectra' from '/content/electra/tfelectra.py'>"
            ]
          },
          "metadata": {
            "tags": []
          },
          "execution_count": 12
        }
      ]
    },
    {
      "cell_type": "code",
      "metadata": {
        "id": "imSQslOQYNH6",
        "colab_type": "code",
        "colab": {}
      },
      "source": [
        "#data_dir = where train, test files are present\n",
        "#vocab_file = vocab.txt\n",
        "#init_checkpoint = where initial checkpoint model is present\n",
        "#output_dir = #where tf records are stores or preprocessed_data_dir\n",
        "#model_dir = where checkpoint model is saved\n",
        "configs = Configs(\n",
        "    data_dir = \"/content/electra/data\",\n",
        "    vocab_file = \"/content/electra/electra_small/vocab.txt\",\n",
        "    init_checkpoint = \"/content/electra/electra_small\",\n",
        "    output_dir = \"/content/electra/model\",\n",
        "    model_name =  \"electra_small\",\n",
        "    model_size = \"small\",\n",
        "    max_seq_length = 64,\n",
        "    train_batch_size = 16,\n",
        "    num_train_epochs = 3,\n",
        "    label_list = [\"0\", \"1\", \"2\"],\n",
        "    do_predict = True,\n",
        "    do_eval = True\n",
        "    )"
      ],
      "execution_count": null,
      "outputs": []
    },
    {
      "cell_type": "code",
      "metadata": {
        "id": "IPWOwKqoalY4",
        "colab_type": "code",
        "colab": {
          "base_uri": "https://localhost:8080/",
          "height": 840
        },
        "outputId": "520266b2-6537-41e8-90c9-8963a14757ee"
      },
      "source": [
        "electra_model = ElectraClassification(configs)"
      ],
      "execution_count": null,
      "outputs": [
        {
          "output_type": "stream",
          "text": [
            "================================================================================\n",
            "Config: model=electra_small, trial 1/1\n",
            "================================================================================\n",
            "data_dir /content/electra/data\n",
            "debug False\n",
            "do_eval True\n",
            "do_lower_case True\n",
            "do_train True\n",
            "double_unordered True\n",
            "embedding_size 128\n",
            "eval_batch_size 8\n",
            "gcp_project None\n",
            "init_checkpoint /content/electra/electra_small\n",
            "iterations_per_loop 1000\n",
            "keep_all_models True\n",
            "layerwise_lr_decay 0.8\n",
            "learning_rate 5e-05\n",
            "log_examples False\n",
            "max_seq_length 64\n",
            "model_dir /content/electra/model\n",
            "model_hparam_overrides {}\n",
            "model_name electra_small\n",
            "model_size small\n",
            "n_writes_test 5\n",
            "num_tpu_cores 1\n",
            "num_train_epochs 3\n",
            "num_trials 1\n",
            "predict_batch_size 8\n",
            "preprocessed_data_dir /content/electra/model\n",
            "raw_data_dir /content/electra/data\n",
            "save_checkpoints_steps 1000000\n",
            "task_names ['sentimentclassification']\n",
            "tasks {'sentimentclassification': {'type': 'classification', 'labels': ['0', '1', '2'], 'header': True, 'text_column': 1, 'label_column': 2}}\n",
            "tpu_job_name None\n",
            "tpu_name None\n",
            "tpu_zone None\n",
            "train_batch_size 16\n",
            "use_tfrecords_if_existing True\n",
            "use_tpu False\n",
            "vocab_file /content/electra/electra_small/vocab.txt\n",
            "vocab_size 30522\n",
            "warmup_proportion 0.1\n",
            "weight_decay_rate 0.01\n",
            "write_test_outputs True\n",
            "\n",
            "Loading dataset sentimentclassification_train\n",
            "Existing tfrecords not found so creating\n",
            "Writing example 0 of 3100\n",
            "Writing example 2000 of 3100\n"
          ],
          "name": "stdout"
        }
      ]
    },
    {
      "cell_type": "code",
      "metadata": {
        "id": "MWcPJQx7fEoO",
        "colab_type": "code",
        "colab": {
          "base_uri": "https://localhost:8080/",
          "height": 1000
        },
        "outputId": "443f9eed-fd60-4cbc-9965-18c5d847342c"
      },
      "source": [
        "electra_model.train()"
      ],
      "execution_count": null,
      "outputs": [
        {
          "output_type": "stream",
          "text": [
            "================================================================================\n",
            "Start training\n",
            "================================================================================\n",
            "Training for 582 steps\n",
            "WARNING: Entity <bound method Preprocessor._decode_tfrecord of <tfelectra.Preprocessor object at 0x7f4131da85f8>> could not be transformed and will be executed as-is. Please report this to the AutoGraph team. When filing the bug, set the verbosity to 10 (on Linux, `export AUTOGRAPH_VERBOSITY=10`) and attach the full output. Cause: module 'gast' has no attribute 'Num'\n",
            "Building model...\n",
            "Building complete\n",
            "10/582 = 1.7%, SPS: 0.8, ELAP: 12, ETA: 11:54 - loss: 19.4538\n",
            "20/582 = 3.4%, SPS: 1.4, ELAP: 14, ETA: 6:30 - loss: 14.8972\n",
            "30/582 = 5.2%, SPS: 2.0, ELAP: 15, ETA: 4:41 - loss: 17.3461\n",
            "40/582 = 6.9%, SPS: 2.4, ELAP: 17, ETA: 3:46 - loss: 19.3486\n",
            "50/582 = 8.6%, SPS: 2.8, ELAP: 18, ETA: 3:12 - loss: 14.0443\n",
            "60/582 = 10.3%, SPS: 3.1, ELAP: 19, ETA: 2:49 - loss: 8.9134\n",
            "70/582 = 12.0%, SPS: 3.4, ELAP: 21, ETA: 2:32 - loss: 16.4571\n",
            "80/582 = 13.7%, SPS: 3.6, ELAP: 22, ETA: 2:19 - loss: 12.9261\n",
            "90/582 = 15.5%, SPS: 3.8, ELAP: 24, ETA: 2:09 - loss: 13.6367\n",
            "100/582 = 17.2%, SPS: 4.0, ELAP: 25, ETA: 2:00 - loss: 16.5410\n",
            "110/582 = 18.9%, SPS: 4.2, ELAP: 26, ETA: 1:53 - loss: 8.7434\n",
            "120/582 = 20.6%, SPS: 4.3, ELAP: 28, ETA: 1:47 - loss: 6.5155\n",
            "130/582 = 22.3%, SPS: 4.5, ELAP: 29, ETA: 1:41 - loss: 14.3742\n",
            "140/582 = 24.1%, SPS: 4.6, ELAP: 31, ETA: 1:36 - loss: 9.4169\n",
            "150/582 = 25.8%, SPS: 4.7, ELAP: 32, ETA: 1:32 - loss: 11.0446\n",
            "160/582 = 27.5%, SPS: 4.8, ELAP: 33, ETA: 1:28 - loss: 11.5991\n",
            "170/582 = 29.2%, SPS: 4.9, ELAP: 35, ETA: 1:24 - loss: 10.0594\n",
            "180/582 = 30.9%, SPS: 5.0, ELAP: 36, ETA: 1:21 - loss: 9.6728\n",
            "190/582 = 32.6%, SPS: 5.1, ELAP: 37, ETA: 1:17 - loss: 7.3460\n",
            "200/582 = 34.4%, SPS: 5.1, ELAP: 39, ETA: 1:14 - loss: 6.7130\n",
            "210/582 = 36.1%, SPS: 5.2, ELAP: 40, ETA: 1:11 - loss: 10.6478\n",
            "220/582 = 37.8%, SPS: 5.3, ELAP: 42, ETA: 1:08 - loss: 4.8954\n",
            "230/582 = 39.5%, SPS: 5.3, ELAP: 43, ETA: 1:06 - loss: 6.8513\n",
            "240/582 = 41.2%, SPS: 5.4, ELAP: 44, ETA: 1:03 - loss: 2.9164\n",
            "250/582 = 43.0%, SPS: 5.5, ELAP: 46, ETA: 1:01 - loss: 1.6869\n",
            "260/582 = 44.7%, SPS: 5.5, ELAP: 47, ETA: 58 - loss: 6.6511\n",
            "270/582 = 46.4%, SPS: 5.6, ELAP: 49, ETA: 56 - loss: 7.6045\n",
            "280/582 = 48.1%, SPS: 5.6, ELAP: 50, ETA: 54 - loss: 5.2300\n",
            "290/582 = 49.8%, SPS: 5.6, ELAP: 51, ETA: 52 - loss: 4.2875\n",
            "300/582 = 51.5%, SPS: 5.7, ELAP: 53, ETA: 50 - loss: 3.8570\n",
            "310/582 = 53.3%, SPS: 5.7, ELAP: 54, ETA: 47 - loss: 5.5263\n",
            "320/582 = 55.0%, SPS: 5.8, ELAP: 56, ETA: 45 - loss: 7.3415\n",
            "330/582 = 56.7%, SPS: 5.8, ELAP: 57, ETA: 43 - loss: 2.0359\n",
            "340/582 = 58.4%, SPS: 5.8, ELAP: 58, ETA: 41 - loss: 8.4999\n",
            "350/582 = 60.1%, SPS: 5.9, ELAP: 1:00, ETA: 40 - loss: 7.6927\n",
            "360/582 = 61.9%, SPS: 5.9, ELAP: 1:01, ETA: 38 - loss: 6.8832\n",
            "370/582 = 63.6%, SPS: 5.9, ELAP: 1:02, ETA: 36 - loss: 7.4537\n",
            "380/582 = 65.3%, SPS: 6.0, ELAP: 1:04, ETA: 34 - loss: 8.0581\n",
            "390/582 = 67.0%, SPS: 6.0, ELAP: 1:05, ETA: 32 - loss: 8.6720\n",
            "400/582 = 68.7%, SPS: 6.0, ELAP: 1:07, ETA: 30 - loss: 6.8022\n",
            "410/582 = 70.4%, SPS: 6.0, ELAP: 1:08, ETA: 29 - loss: 10.8580\n",
            "420/582 = 72.2%, SPS: 6.1, ELAP: 1:09, ETA: 27 - loss: 11.7075\n",
            "430/582 = 73.9%, SPS: 6.1, ELAP: 1:11, ETA: 25 - loss: 9.5405\n",
            "440/582 = 75.6%, SPS: 6.1, ELAP: 1:12, ETA: 23 - loss: 5.8672\n",
            "450/582 = 77.3%, SPS: 6.1, ELAP: 1:14, ETA: 22 - loss: 5.1463\n",
            "460/582 = 79.0%, SPS: 6.1, ELAP: 1:15, ETA: 20 - loss: 4.2422\n",
            "470/582 = 80.8%, SPS: 6.2, ELAP: 1:16, ETA: 18 - loss: 7.6248\n",
            "480/582 = 82.5%, SPS: 6.2, ELAP: 1:18, ETA: 17 - loss: 10.5541\n",
            "490/582 = 84.2%, SPS: 6.2, ELAP: 1:19, ETA: 15 - loss: 13.8504\n",
            "500/582 = 85.9%, SPS: 6.2, ELAP: 1:21, ETA: 13 - loss: 5.0806\n",
            "510/582 = 87.6%, SPS: 6.2, ELAP: 1:22, ETA: 12 - loss: 13.8430\n",
            "520/582 = 89.3%, SPS: 6.2, ELAP: 1:23, ETA: 10 - loss: 4.4837\n",
            "530/582 = 91.1%, SPS: 6.3, ELAP: 1:25, ETA: 8 - loss: 1.6041\n",
            "540/582 = 92.8%, SPS: 6.3, ELAP: 1:26, ETA: 7 - loss: 8.8647\n",
            "550/582 = 94.5%, SPS: 6.3, ELAP: 1:27, ETA: 5 - loss: 9.3866\n",
            "560/582 = 96.2%, SPS: 6.3, ELAP: 1:29, ETA: 3 - loss: 5.9355\n",
            "570/582 = 97.9%, SPS: 6.3, ELAP: 1:30, ETA: 2 - loss: 7.2695\n",
            "580/582 = 99.7%, SPS: 6.3, ELAP: 1:32, ETA: 0 - loss: 1.4643\n",
            "================================================================================\n",
            "Training Finished\n",
            "================================================================================\n",
            "================================================================================\n",
            "Start Evaluation\n",
            "================================================================================\n",
            "Evaluating sentimentclassification\n",
            "Loading dataset sentimentclassification_dev\n",
            "Existing tfrecords not found so creating\n",
            "Writing example 0 of 776\n",
            "WARNING: Entity <bound method Preprocessor._decode_tfrecord of <tfelectra.Preprocessor object at 0x7f4131da85f8>> could not be transformed and will be executed as-is. Please report this to the AutoGraph team. When filing the bug, set the verbosity to 10 (on Linux, `export AUTOGRAPH_VERBOSITY=10`) and attach the full output. Cause: module 'gast' has no attribute 'Num'\n",
            "Building model...\n",
            "Building complete\n",
            "sentimentclassification: accuracy: 81.70 - loss: 0.45\n",
            "\n"
          ],
          "name": "stdout"
        }
      ]
    },
    {
      "cell_type": "code",
      "metadata": {
        "id": "wMb9Cs_6jhEG",
        "colab_type": "code",
        "colab": {
          "base_uri": "https://localhost:8080/",
          "height": 171
        },
        "outputId": "7373d5cd-d0c7-4150-82ce-abf6b2ef1deb"
      },
      "source": [
        "y = electra_model.test()"
      ],
      "execution_count": null,
      "outputs": [
        {
          "output_type": "stream",
          "text": [
            "Writing out predictions for [Task(sentimentclassification)] test\n",
            "Loading dataset sentimentclassification_test\n",
            "Existing tfrecords not found so creating\n",
            "Writing example 0 of 970\n",
            "WARNING: Entity <bound method Preprocessor._decode_tfrecord of <tfelectra.Preprocessor object at 0x7f4131da85f8>> could not be transformed and will be executed as-is. Please report this to the AutoGraph team. When filing the bug, set the verbosity to 10 (on Linux, `export AUTOGRAPH_VERBOSITY=10`) and attach the full output. Cause: module 'gast' has no attribute 'Num'\n",
            "Building model...\n",
            "Building complete\n",
            "Getting predictions for 970 sentimentclassification examples (test)\n"
          ],
          "name": "stdout"
        }
      ]
    },
    {
      "cell_type": "code",
      "metadata": {
        "id": "xupm5UAtIxNq",
        "colab_type": "code",
        "colab": {}
      },
      "source": [
        "data = y"
      ],
      "execution_count": null,
      "outputs": []
    },
    {
      "cell_type": "code",
      "metadata": {
        "id": "sDleksrLIyw3",
        "colab_type": "code",
        "colab": {
          "base_uri": "https://localhost:8080/",
          "height": 34
        },
        "outputId": "f8f84a67-509c-40cc-ed0f-3328139a8242"
      },
      "source": [
        "len(data)"
      ],
      "execution_count": null,
      "outputs": [
        {
          "output_type": "execute_result",
          "data": {
            "text/plain": [
              "970"
            ]
          },
          "metadata": {
            "tags": []
          },
          "execution_count": 20
        }
      ]
    },
    {
      "cell_type": "code",
      "metadata": {
        "id": "BBoMuNmLI0V8",
        "colab_type": "code",
        "colab": {}
      },
      "source": [
        "y_pred = [np.argmax(data[d]) for d in data]"
      ],
      "execution_count": null,
      "outputs": []
    },
    {
      "cell_type": "code",
      "metadata": {
        "id": "5LTaUNrQI3hW",
        "colab_type": "code",
        "colab": {}
      },
      "source": [
        "df_y = pd.read_csv(\"/content/electra/data/test.csv\", sep=\",\")\n",
        "y = df_y[\"label\"]"
      ],
      "execution_count": null,
      "outputs": []
    },
    {
      "cell_type": "code",
      "metadata": {
        "id": "fI1PTj0nI5ut",
        "colab_type": "code",
        "colab": {
          "base_uri": "https://localhost:8080/",
          "height": 34
        },
        "outputId": "319daa28-eb4a-4e91-f63e-e7ef72b78b89"
      },
      "source": [
        "correct = np.sum(y == y_pred)\n",
        "correct/len(y)"
      ],
      "execution_count": null,
      "outputs": [
        {
          "output_type": "execute_result",
          "data": {
            "text/plain": [
              "0.8371134020618557"
            ]
          },
          "metadata": {
            "tags": []
          },
          "execution_count": 23
        }
      ]
    },
    {
      "cell_type": "code",
      "metadata": {
        "id": "g0faj-J1qx1L",
        "colab_type": "code",
        "colab": {
          "base_uri": "https://localhost:8080/",
          "height": 134
        },
        "outputId": "8cda8df7-58c0-428c-9923-e47c37722292"
      },
      "source": [
        "report(y, y_pred)"
      ],
      "execution_count": null,
      "outputs": [
        {
          "output_type": "stream",
          "text": [
            "[[ 91  22  11]\n",
            " [ 17 500  66]\n",
            " [ 11  31 221]]\n",
            "Accuracy: 0.837\n",
            "Precision: 0.803\n",
            "Recall: 0.811\n",
            "F1-Score: 0.806\n"
          ],
          "name": "stdout"
        }
      ]
    },
    {
      "cell_type": "code",
      "metadata": {
        "id": "pq7Pxz5bqhmD",
        "colab_type": "code",
        "colab": {}
      },
      "source": [
        "def report(y_true, y_pred):\n",
        "  print(confusion_matrix(y_true, y_pred)) \n",
        "  print(\"Accuracy: {0:.3f}\".format(accuracy_score(y_true, y_pred))) \n",
        "  print(\"Precision: {0:.3f}\".format(precision_score(y_true, y_pred, average=\"macro\")))\n",
        "  print(\"Recall: {0:.3f}\".format(recall_score(y_true, y_pred, average=\"macro\")))\n",
        "  print(\"F1-Score: {0:.3f}\".format(f1_score(y_true, y_pred, average=\"macro\")))"
      ],
      "execution_count": null,
      "outputs": []
    },
    {
      "cell_type": "code",
      "metadata": {
        "id": "NiGlUYJb-CAG",
        "colab_type": "code",
        "colab": {}
      },
      "source": [
        "import numpy as np\n",
        "import pandas as pd\n",
        "import numpy as np\n",
        "import pandas as pd\n",
        "import sklearn\n",
        "from sklearn.metrics import confusion_matrix \n",
        "from sklearn.metrics import accuracy_score \n",
        "from sklearn.metrics import classification_report \n",
        "from sklearn.metrics import precision_score, recall_score, f1_score, accuracy_score\n",
        "import pickle\n"
      ],
      "execution_count": null,
      "outputs": []
    },
    {
      "cell_type": "code",
      "metadata": {
        "id": "xiQSIJ9sSwfA",
        "colab_type": "code",
        "colab": {}
      },
      "source": [
        ""
      ],
      "execution_count": null,
      "outputs": []
    }
  ]
}